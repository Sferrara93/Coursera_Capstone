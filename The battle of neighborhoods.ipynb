{
 "cells": [
  {
   "cell_type": "markdown",
   "metadata": {},
   "source": [
    "# Coursera Project Capstone- The Battle of Neighborhoods"
   ]
  },
  {
   "cell_type": "markdown",
   "metadata": {},
   "source": [
    "#### Introduction"
   ]
  },
  {
   "cell_type": "markdown",
   "metadata": {},
   "source": [
    "Canada is a one of the most popular destination of Indian Engineering Students for advance studies and also for doing Internships like Mitacs etc. When new students go there, they usually miss the Indian foods badly, because of unique taste of native foods.\n",
    "\n",
    "This Project is aimed to help them in finding the best Indian restaurants in Toronto, the provincial capital of Ontario, Canada.\n",
    "\n",
    "I chose Toronto, because, the highest concentrations of Indo-Canadians are found in the provinces of Ontario and British Columbia, followed by growing communities in Alberta and Quebec as well, with the majority of them being foreign-born."
   ]
  },
  {
   "cell_type": "markdown",
   "metadata": {},
   "source": [
    "#### About Data"
   ]
  },
  {
   "cell_type": "markdown",
   "metadata": {},
   "source": [
    "For the Toronto neighborhood data, a Wikipedia page: wiki_page exists that has all the information we need to explore and cluster the neighborhoods in Toronto. I will have to scrape the Wikipedia page and wrangle the data, clean it, and then read it into a pandas dataframe so that it is in a structured format."
   ]
  },
  {
   "cell_type": "markdown",
   "metadata": {},
   "source": [
    "#### Approach\n"
   ]
  },
  {
   "cell_type": "markdown",
   "metadata": {},
   "source": [
    "I will collect the Toronto city data from above link and using FourSquare API, I will find all venues for each neighborhood. Then, filtering out all the venues that have Indian restaurants. I will analyse ratings, tips and count for Indian restaurants. I will sort that data and visualize the ranking of neighborhoods using folium library of Python."
   ]
  },
  {
   "cell_type": "markdown",
   "metadata": {},
   "source": [
    "### Problem Statement :\n",
    "Which is/are the best place/s to stay in the Toronto city if I prefer Indian foods ?"
   ]
  }
 ],
 "metadata": {
  "kernelspec": {
   "display_name": "Python 3",
   "language": "python",
   "name": "python3"
  },
  "language_info": {
   "codemirror_mode": {
    "name": "ipython",
    "version": 3
   },
   "file_extension": ".py",
   "mimetype": "text/x-python",
   "name": "python",
   "nbconvert_exporter": "python",
   "pygments_lexer": "ipython3",
   "version": "3.7.6"
  }
 },
 "nbformat": 4,
 "nbformat_minor": 4
}
